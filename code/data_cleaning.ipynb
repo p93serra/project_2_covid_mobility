{
 "cells": [
  {
   "cell_type": "code",
   "execution_count": 28,
   "metadata": {},
   "outputs": [],
   "source": [
    "import pandas as pd\n",
    "import numpy as np\n",
    "import datetime\n",
    "import calendar"
   ]
  },
  {
   "cell_type": "code",
   "execution_count": 1,
   "metadata": {},
   "outputs": [],
   "source": [
    "files_path = \"../data/Region_Mobility_Report_CSVs/\""
   ]
  },
  {
   "cell_type": "code",
   "execution_count": 3,
   "metadata": {},
   "outputs": [],
   "source": [
    "spain_data = \"2020_ES_Region_Mobility_Report.csv\""
   ]
  },
  {
   "cell_type": "code",
   "execution_count": 4,
   "metadata": {},
   "outputs": [],
   "source": [
    "region_mobility_spain = pd.read_csv(files_path+spain_data)"
   ]
  },
  {
   "cell_type": "code",
   "execution_count": 7,
   "metadata": {},
   "outputs": [
    {
     "name": "stdout",
     "output_type": "stream",
     "text": [
      "<class 'pandas.core.frame.DataFrame'>\n",
      "RangeIndex: 22037 entries, 0 to 22036\n",
      "Data columns (total 14 columns):\n",
      " #   Column                                              Non-Null Count  Dtype  \n",
      "---  ------                                              --------------  -----  \n",
      " 0   country_region_code                                 22037 non-null  object \n",
      " 1   country_region                                      22037 non-null  object \n",
      " 2   sub_region_1                                        21687 non-null  object \n",
      " 3   sub_region_2                                        15050 non-null  object \n",
      " 4   metro_area                                          0 non-null      float64\n",
      " 5   iso_3166_2_code                                     21687 non-null  object \n",
      " 6   census_fips_code                                    0 non-null      float64\n",
      " 7   date                                                22037 non-null  object \n",
      " 8   retail_and_recreation_percent_change_from_baseline  21981 non-null  float64\n",
      " 9   grocery_and_pharmacy_percent_change_from_baseline   21676 non-null  float64\n",
      " 10  parks_percent_change_from_baseline                  21732 non-null  float64\n",
      " 11  transit_stations_percent_change_from_baseline       21247 non-null  float64\n",
      " 12  workplaces_percent_change_from_baseline             21995 non-null  float64\n",
      " 13  residential_percent_change_from_baseline            21780 non-null  float64\n",
      "dtypes: float64(8), object(6)\n",
      "memory usage: 2.4+ MB\n"
     ]
    }
   ],
   "source": [
    "region_mobility_spain.info()"
   ]
  },
  {
   "cell_type": "code",
   "execution_count": 58,
   "metadata": {},
   "outputs": [],
   "source": [
    "bcn_mobility = region_mobility_spain[(region_mobility_spain.sub_region_1 == \"Catalonia\") & (region_mobility_spain.sub_region_2 == \"Barcelona\")]"
   ]
  },
  {
   "cell_type": "code",
   "execution_count": 59,
   "metadata": {},
   "outputs": [],
   "source": [
    "bcn_mobility.reset_index(inplace=True)"
   ]
  },
  {
   "cell_type": "code",
   "execution_count": 48,
   "metadata": {},
   "outputs": [
    {
     "data": {
      "text/plain": [
       "0    2020-02-15\n",
       "1    2020-02-16\n",
       "2    2020-02-17\n",
       "3    2020-02-18\n",
       "4    2020-02-19\n",
       "Name: date, dtype: object"
      ]
     },
     "execution_count": 48,
     "metadata": {},
     "output_type": "execute_result"
    }
   ],
   "source": [
    "bcn_mobility.date.head()"
   ]
  },
  {
   "cell_type": "code",
   "execution_count": 30,
   "metadata": {},
   "outputs": [
    {
     "ename": "AttributeError",
     "evalue": "'str' object has no attribute 'weekday'",
     "output_type": "error",
     "traceback": [
      "\u001b[0;31m---------------------------------------------------------------------------\u001b[0m",
      "\u001b[0;31mAttributeError\u001b[0m                            Traceback (most recent call last)",
      "\u001b[0;32m<ipython-input-30-ac39db18ed91>\u001b[0m in \u001b[0;36m<module>\u001b[0;34m\u001b[0m\n\u001b[0;32m----> 1\u001b[0;31m \u001b[0mcalendar\u001b[0m\u001b[0;34m.\u001b[0m\u001b[0mday_name\u001b[0m\u001b[0;34m[\u001b[0m\u001b[0;34m\"2020-02-15\"\u001b[0m\u001b[0;34m.\u001b[0m\u001b[0mweekday\u001b[0m\u001b[0;34m(\u001b[0m\u001b[0;34m)\u001b[0m\u001b[0;34m]\u001b[0m\u001b[0;34m\u001b[0m\u001b[0;34m\u001b[0m\u001b[0m\n\u001b[0m",
      "\u001b[0;31mAttributeError\u001b[0m: 'str' object has no attribute 'weekday'"
     ]
    }
   ],
   "source": [
    "calendar.day_name[datetime.datetime.today().weekday()]"
   ]
  },
  {
   "cell_type": "code",
   "execution_count": 50,
   "metadata": {},
   "outputs": [
    {
     "data": {
      "text/plain": [
       "0      2020-02-15\n",
       "1      2020-02-16\n",
       "2      2020-02-17\n",
       "3      2020-02-18\n",
       "4      2020-02-19\n",
       "          ...    \n",
       "345    2021-01-25\n",
       "346    2021-01-26\n",
       "347    2021-01-27\n",
       "348    2021-01-28\n",
       "349    2021-01-29\n",
       "Name: date, Length: 350, dtype: object"
      ]
     },
     "execution_count": 50,
     "metadata": {},
     "output_type": "execute_result"
    }
   ],
   "source": [
    "bcn_mobility.date"
   ]
  },
  {
   "cell_type": "code",
   "execution_count": 55,
   "metadata": {},
   "outputs": [],
   "source": [
    "weekday_list = [calendar.day_name[datetime.date(int(bcn_mobility.date[i].split(\"-\")[0]),int(bcn_mobility.date[i].split(\"-\")[1]),int(bcn_mobility.date[i].split(\"-\")[2])).weekday()] for i in range(0,len(bcn_mobility))]"
   ]
  },
  {
   "cell_type": "code",
   "execution_count": 61,
   "metadata": {},
   "outputs": [
    {
     "name": "stderr",
     "output_type": "stream",
     "text": [
      "/usr/local/lib/python3.9/site-packages/pandas/core/indexing.py:1596: SettingWithCopyWarning: \n",
      "A value is trying to be set on a copy of a slice from a DataFrame.\n",
      "Try using .loc[row_indexer,col_indexer] = value instead\n",
      "\n",
      "See the caveats in the documentation: https://pandas.pydata.org/pandas-docs/stable/user_guide/indexing.html#returning-a-view-versus-a-copy\n",
      "  self.obj[key] = value\n",
      "/usr/local/lib/python3.9/site-packages/pandas/core/indexing.py:1719: SettingWithCopyWarning: \n",
      "A value is trying to be set on a copy of a slice from a DataFrame.\n",
      "Try using .loc[row_indexer,col_indexer] = value instead\n",
      "\n",
      "See the caveats in the documentation: https://pandas.pydata.org/pandas-docs/stable/user_guide/indexing.html#returning-a-view-versus-a-copy\n",
      "  self._setitem_single_column(loc, value, pi)\n"
     ]
    }
   ],
   "source": [
    "bcn_mobility['weekday'] = calendar.day_name[datetime.date(int(bcn_mobility.date[i].split(\"-\")[0]),int(bcn_mobility.date[i].split(\"-\")[1]),int(bcn_mobility.date[i].split(\"-\")[2])).weekday()]\n"
   ]
  },
  {
   "cell_type": "code",
   "execution_count": 62,
   "metadata": {},
   "outputs": [
    {
     "data": {
      "text/html": [
       "<div>\n",
       "<style scoped>\n",
       "    .dataframe tbody tr th:only-of-type {\n",
       "        vertical-align: middle;\n",
       "    }\n",
       "\n",
       "    .dataframe tbody tr th {\n",
       "        vertical-align: top;\n",
       "    }\n",
       "\n",
       "    .dataframe thead th {\n",
       "        text-align: right;\n",
       "    }\n",
       "</style>\n",
       "<table border=\"1\" class=\"dataframe\">\n",
       "  <thead>\n",
       "    <tr style=\"text-align: right;\">\n",
       "      <th></th>\n",
       "      <th>index</th>\n",
       "      <th>country_region_code</th>\n",
       "      <th>country_region</th>\n",
       "      <th>sub_region_1</th>\n",
       "      <th>sub_region_2</th>\n",
       "      <th>metro_area</th>\n",
       "      <th>iso_3166_2_code</th>\n",
       "      <th>census_fips_code</th>\n",
       "      <th>date</th>\n",
       "      <th>retail_and_recreation_percent_change_from_baseline</th>\n",
       "      <th>grocery_and_pharmacy_percent_change_from_baseline</th>\n",
       "      <th>parks_percent_change_from_baseline</th>\n",
       "      <th>transit_stations_percent_change_from_baseline</th>\n",
       "      <th>workplaces_percent_change_from_baseline</th>\n",
       "      <th>residential_percent_change_from_baseline</th>\n",
       "      <th>weekday</th>\n",
       "    </tr>\n",
       "  </thead>\n",
       "  <tbody>\n",
       "    <tr>\n",
       "      <th>0</th>\n",
       "      <td>14350</td>\n",
       "      <td>ES</td>\n",
       "      <td>Spain</td>\n",
       "      <td>Catalonia</td>\n",
       "      <td>Barcelona</td>\n",
       "      <td>NaN</td>\n",
       "      <td>ES-B</td>\n",
       "      <td>NaN</td>\n",
       "      <td>2020-02-15</td>\n",
       "      <td>1.0</td>\n",
       "      <td>-3.0</td>\n",
       "      <td>14.0</td>\n",
       "      <td>7.0</td>\n",
       "      <td>-1.0</td>\n",
       "      <td>-1.0</td>\n",
       "      <td>Friday</td>\n",
       "    </tr>\n",
       "    <tr>\n",
       "      <th>1</th>\n",
       "      <td>14351</td>\n",
       "      <td>ES</td>\n",
       "      <td>Spain</td>\n",
       "      <td>Catalonia</td>\n",
       "      <td>Barcelona</td>\n",
       "      <td>NaN</td>\n",
       "      <td>ES-B</td>\n",
       "      <td>NaN</td>\n",
       "      <td>2020-02-16</td>\n",
       "      <td>-7.0</td>\n",
       "      <td>-8.0</td>\n",
       "      <td>2.0</td>\n",
       "      <td>4.0</td>\n",
       "      <td>-3.0</td>\n",
       "      <td>-1.0</td>\n",
       "      <td>Friday</td>\n",
       "    </tr>\n",
       "    <tr>\n",
       "      <th>2</th>\n",
       "      <td>14352</td>\n",
       "      <td>ES</td>\n",
       "      <td>Spain</td>\n",
       "      <td>Catalonia</td>\n",
       "      <td>Barcelona</td>\n",
       "      <td>NaN</td>\n",
       "      <td>ES-B</td>\n",
       "      <td>NaN</td>\n",
       "      <td>2020-02-17</td>\n",
       "      <td>0.0</td>\n",
       "      <td>1.0</td>\n",
       "      <td>11.0</td>\n",
       "      <td>4.0</td>\n",
       "      <td>2.0</td>\n",
       "      <td>0.0</td>\n",
       "      <td>Friday</td>\n",
       "    </tr>\n",
       "    <tr>\n",
       "      <th>3</th>\n",
       "      <td>14353</td>\n",
       "      <td>ES</td>\n",
       "      <td>Spain</td>\n",
       "      <td>Catalonia</td>\n",
       "      <td>Barcelona</td>\n",
       "      <td>NaN</td>\n",
       "      <td>ES-B</td>\n",
       "      <td>NaN</td>\n",
       "      <td>2020-02-18</td>\n",
       "      <td>-1.0</td>\n",
       "      <td>1.0</td>\n",
       "      <td>8.0</td>\n",
       "      <td>3.0</td>\n",
       "      <td>2.0</td>\n",
       "      <td>0.0</td>\n",
       "      <td>Friday</td>\n",
       "    </tr>\n",
       "    <tr>\n",
       "      <th>4</th>\n",
       "      <td>14354</td>\n",
       "      <td>ES</td>\n",
       "      <td>Spain</td>\n",
       "      <td>Catalonia</td>\n",
       "      <td>Barcelona</td>\n",
       "      <td>NaN</td>\n",
       "      <td>ES-B</td>\n",
       "      <td>NaN</td>\n",
       "      <td>2020-02-19</td>\n",
       "      <td>-1.0</td>\n",
       "      <td>1.0</td>\n",
       "      <td>6.0</td>\n",
       "      <td>1.0</td>\n",
       "      <td>2.0</td>\n",
       "      <td>0.0</td>\n",
       "      <td>Friday</td>\n",
       "    </tr>\n",
       "  </tbody>\n",
       "</table>\n",
       "</div>"
      ],
      "text/plain": [
       "   index country_region_code country_region sub_region_1 sub_region_2  \\\n",
       "0  14350                  ES          Spain    Catalonia    Barcelona   \n",
       "1  14351                  ES          Spain    Catalonia    Barcelona   \n",
       "2  14352                  ES          Spain    Catalonia    Barcelona   \n",
       "3  14353                  ES          Spain    Catalonia    Barcelona   \n",
       "4  14354                  ES          Spain    Catalonia    Barcelona   \n",
       "\n",
       "   metro_area iso_3166_2_code  census_fips_code        date  \\\n",
       "0         NaN            ES-B               NaN  2020-02-15   \n",
       "1         NaN            ES-B               NaN  2020-02-16   \n",
       "2         NaN            ES-B               NaN  2020-02-17   \n",
       "3         NaN            ES-B               NaN  2020-02-18   \n",
       "4         NaN            ES-B               NaN  2020-02-19   \n",
       "\n",
       "   retail_and_recreation_percent_change_from_baseline  \\\n",
       "0                                                1.0    \n",
       "1                                               -7.0    \n",
       "2                                                0.0    \n",
       "3                                               -1.0    \n",
       "4                                               -1.0    \n",
       "\n",
       "   grocery_and_pharmacy_percent_change_from_baseline  \\\n",
       "0                                               -3.0   \n",
       "1                                               -8.0   \n",
       "2                                                1.0   \n",
       "3                                                1.0   \n",
       "4                                                1.0   \n",
       "\n",
       "   parks_percent_change_from_baseline  \\\n",
       "0                                14.0   \n",
       "1                                 2.0   \n",
       "2                                11.0   \n",
       "3                                 8.0   \n",
       "4                                 6.0   \n",
       "\n",
       "   transit_stations_percent_change_from_baseline  \\\n",
       "0                                            7.0   \n",
       "1                                            4.0   \n",
       "2                                            4.0   \n",
       "3                                            3.0   \n",
       "4                                            1.0   \n",
       "\n",
       "   workplaces_percent_change_from_baseline  \\\n",
       "0                                     -1.0   \n",
       "1                                     -3.0   \n",
       "2                                      2.0   \n",
       "3                                      2.0   \n",
       "4                                      2.0   \n",
       "\n",
       "   residential_percent_change_from_baseline weekday  \n",
       "0                                      -1.0  Friday  \n",
       "1                                      -1.0  Friday  \n",
       "2                                       0.0  Friday  \n",
       "3                                       0.0  Friday  \n",
       "4                                       0.0  Friday  "
      ]
     },
     "execution_count": 62,
     "metadata": {},
     "output_type": "execute_result"
    }
   ],
   "source": [
    "bcn_mobility.head()"
   ]
  },
  {
   "cell_type": "code",
   "execution_count": null,
   "metadata": {},
   "outputs": [],
   "source": []
  }
 ],
 "metadata": {
  "kernelspec": {
   "display_name": "Python 3",
   "language": "python",
   "name": "python3"
  },
  "language_info": {
   "codemirror_mode": {
    "name": "ipython",
    "version": 3
   },
   "file_extension": ".py",
   "mimetype": "text/x-python",
   "name": "python",
   "nbconvert_exporter": "python",
   "pygments_lexer": "ipython3",
   "version": "3.9.0"
  },
  "varInspector": {
   "cols": {
    "lenName": 16,
    "lenType": 16,
    "lenVar": 40
   },
   "kernels_config": {
    "python": {
     "delete_cmd_postfix": "",
     "delete_cmd_prefix": "del ",
     "library": "var_list.py",
     "varRefreshCmd": "print(var_dic_list())"
    },
    "r": {
     "delete_cmd_postfix": ") ",
     "delete_cmd_prefix": "rm(",
     "library": "var_list.r",
     "varRefreshCmd": "cat(var_dic_list()) "
    }
   },
   "types_to_exclude": [
    "module",
    "function",
    "builtin_function_or_method",
    "instance",
    "_Feature"
   ],
   "window_display": false
  }
 },
 "nbformat": 4,
 "nbformat_minor": 4
}
